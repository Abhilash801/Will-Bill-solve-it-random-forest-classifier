{
 "cells": [
  {
   "cell_type": "code",
   "execution_count": 2,
   "metadata": {},
   "outputs": [],
   "source": [
    "%matplotlib inline\n",
    "from sklearn import preprocessing"
   ]
  },
  {
   "cell_type": "code",
   "execution_count": 4,
   "metadata": {},
   "outputs": [],
   "source": [
    "import pandas as pd\n",
    "import numpy as np\n",
    "from sklearn.preprocessing import LabelEncoder\n",
    "import random\n",
    "from sklearn.ensemble import RandomForestClassifier\n",
    "from sklearn.ensemble import GradientBoostingClassifier\n",
    "\n",
    "pwd='G:/One Drive/OneDrive/MSBA/kaggle/will_bill_solve_it.tar/will_bill_solve_it'\n",
    "trainProblems=pd.read_csv(pwd+'/train/problems.csv')\n",
    "trainSubmissions=pd.read_csv(pwd+'/train/submissions.csv')\n",
    "\n",
    "testProblems=pd.read_csv(pwd+'/test/problems-test.csv')\n",
    "testUsers=pd.read_csv(pwd+'/test/users-test.csv')"
   ]
  },
  {
   "cell_type": "code",
   "execution_count": 5,
   "metadata": {},
   "outputs": [],
   "source": [
    "trainUsers=pd.read_csv(pwd+'/train/users.csv')"
   ]
  },
  {
   "cell_type": "markdown",
   "metadata": {},
   "source": [
    "# Handling missed values and removing few columns"
   ]
  },
  {
   "cell_type": "code",
   "execution_count": 36,
   "metadata": {},
   "outputs": [
    {
     "name": "stdout",
     "output_type": "stream",
     "text": [
      "<class 'pandas.core.frame.DataFrame'>\n",
      "Int64Index: 1002 entries, 0 to 1001\n",
      "Data columns (total 7 columns):\n",
      "problem_id      1002 non-null int64\n",
      "level           768 non-null object\n",
      "accuracy        1002 non-null float64\n",
      "solved_count    1002 non-null int64\n",
      "error_count     1002 non-null int64\n",
      "rating          1002 non-null float64\n",
      "tag1            1002 non-null object\n",
      "dtypes: float64(2), int64(3), object(2)\n",
      "memory usage: 54.8+ KB\n"
     ]
    }
   ],
   "source": [
    "trainProblems.info()"
   ]
  },
  {
   "cell_type": "code",
   "execution_count": 33,
   "metadata": {},
   "outputs": [
    {
     "data": {
      "text/plain": [
       "<matplotlib.axes._subplots.AxesSubplot at 0x128e4f30>"
      ]
     },
     "execution_count": 33,
     "output_type": "execute_result",
     "metadata": {}
    },
    {
     "data": {
      "image/png": "[encoded data removed]"
     },
     "output_type": "display_data",
     "metadata": {}
    }
   ],
   "source": [
    "trainProblems.solved_count.hist()"
   ]
  },
  {
   "cell_type": "code",
   "execution_count": 51,
   "metadata": {},
   "outputs": [
    {
     "data": {
      "text/plain": [
       "level\n",
       "E      532.545198\n",
       "E-M    190.196970\n",
       "H       31.541667\n",
       "M      114.938017\n",
       "M-H     40.400000\n",
       "Name: solved_count, dtype: float64"
      ]
     },
     "execution_count": 51,
     "output_type": "execute_result",
     "metadata": {}
    }
   ],
   "source": [
    "trainProblems[pd.isnull(trainProblems.level)].describe() #groupby('solved_count')['problem_id'].count()\n",
    "trainProblems.groupby('level')['solved_count'].mean()"
   ]
  },
  {
   "cell_type": "markdown",
   "metadata": {},
   "source": [
    "75 % of solved_count data lies in the range of 21-130 for missing level values. Also Medium levels has on an average 114 solved_count. Hence setting missing level values to M difficulty based on the data"
   ]
  },
  {
   "cell_type": "code",
   "execution_count": 6,
   "metadata": {},
   "outputs": [],
   "source": [
    "testProblems.level.fillna('M',inplace=True)\n",
    "trainProblems.level.fillna('M',inplace=True)"
   ]
  },
  {
   "cell_type": "code",
   "execution_count": 9,
   "metadata": {},
   "outputs": [],
   "source": [
    "testProblems=testProblems.drop(['tag2','tag3','tag4','tag5','accuracy'],axis=1)\n",
    "trainProblems=trainProblems.drop(['tag2','tag3','tag4','tag5','accuracy'],axis=1)"
   ]
  },
  {
   "cell_type": "code",
   "execution_count": 10,
   "metadata": {},
   "outputs": [],
   "source": [
    "testProblems.tag1.fillna('no value',inplace=True)\n",
    "trainProblems.tag1.fillna('no value',inplace=True)"
   ]
  },
  {
   "cell_type": "code",
   "execution_count": null,
   "metadata": {},
   "outputs": [],
   "source": [
    "testProblems.groupby('tag1')['problem_id'].count()\n",
    "trainProblems.groupby('tag1')['problem_id'].count()"
   ]
  },
  {
   "cell_type": "code",
   "execution_count": 114,
   "metadata": {},
   "outputs": [
    {
     "name": "stdout",
     "output_type": "stream",
     "text": [
      "<class 'pandas.core.frame.DataFrame'>\n",
      "Int64Index: 956 entries, 0 to 955\n",
      "Data columns (total 6 columns):\n",
      "problem_id      956 non-null int64\n",
      "level           956 non-null object\n",
      "solved_count    956 non-null int64\n",
      "error_count     956 non-null int64\n",
      "rating          956 non-null float64\n",
      "tag1            956 non-null object\n",
      "dtypes: float64(1), int64(3), object(2)\n",
      "memory usage: 44.8+ KB\n"
     ]
    }
   ],
   "source": [
    "testProblems.info()"
   ]
  },
  {
   "cell_type": "markdown",
   "metadata": {},
   "source": [
    "# marking test and train data and combining the data for cleaning"
   ]
  },
  {
   "cell_type": "code",
   "execution_count": 11,
   "metadata": {},
   "outputs": [],
   "source": [
    "trainUsers['recordtype']='train'\n",
    "testUsers['recordtype']='test'"
   ]
  },
  {
   "cell_type": "code",
   "execution_count": 12,
   "metadata": {},
   "outputs": [],
   "source": [
    "fullUsers=pd.concat([trainUsers,testUsers])"
   ]
  },
  {
   "cell_type": "code",
   "execution_count": 73,
   "metadata": {},
   "outputs": [
    {
     "data": {
      "text/html": [
       "<div>\n",
       "<table border=\"1\" class=\"dataframe\">\n",
       "  <thead>\n",
       "    <tr style=\"text-align: right;\">\n",
       "      <th></th>\n",
       "      <th>user_id</th>\n",
       "      <th>solved_count</th>\n",
       "      <th>attempts</th>\n",
       "    </tr>\n",
       "  </thead>\n",
       "  <tbody>\n",
       "    <tr>\n",
       "      <th>count</th>\n",
       "      <td>77809.000000</td>\n",
       "      <td>77809.000000</td>\n",
       "      <td>77809.000000</td>\n",
       "    </tr>\n",
       "    <tr>\n",
       "      <th>mean</th>\n",
       "      <td>1155162.355576</td>\n",
       "      <td>10.657071</td>\n",
       "      <td>15.608117</td>\n",
       "    </tr>\n",
       "    <tr>\n",
       "      <th>std</th>\n",
       "      <td>177017.284906</td>\n",
       "      <td>26.594750</td>\n",
       "      <td>49.933960</td>\n",
       "    </tr>\n",
       "    <tr>\n",
       "      <th>min</th>\n",
       "      <td>903633.000000</td>\n",
       "      <td>0.000000</td>\n",
       "      <td>0.000000</td>\n",
       "    </tr>\n",
       "    <tr>\n",
       "      <th>25%</th>\n",
       "      <td>997644.000000</td>\n",
       "      <td>1.000000</td>\n",
       "      <td>2.000000</td>\n",
       "    </tr>\n",
       "    <tr>\n",
       "      <th>50%</th>\n",
       "      <td>1123249.000000</td>\n",
       "      <td>3.000000</td>\n",
       "      <td>5.000000</td>\n",
       "    </tr>\n",
       "    <tr>\n",
       "      <th>75%</th>\n",
       "      <td>1315405.000000</td>\n",
       "      <td>9.000000</td>\n",
       "      <td>16.000000</td>\n",
       "    </tr>\n",
       "    <tr>\n",
       "      <th>max</th>\n",
       "      <td>1556984.000000</td>\n",
       "      <td>789.000000</td>\n",
       "      <td>7211.000000</td>\n",
       "    </tr>\n",
       "  </tbody>\n",
       "</table>\n",
       "</div>"
      ]
     },
     "output_type": "execute_result",
     "metadata": {}
    }
   ],
   "source": [
    "fullUsers.describe()"
   ]
  },
  {
   "cell_type": "code",
   "execution_count": 75,
   "metadata": {},
   "outputs": [
    {
     "name": "stdout",
     "output_type": "stream",
     "text": [
      "<class 'pandas.core.frame.DataFrame'>\n",
      "Int64Index: 77809 entries, 0 to 15278\n",
      "Data columns (total 6 columns):\n",
      "user_id         77809 non-null int64\n",
      "skills          77550 non-null object\n",
      "solved_count    77809 non-null int64\n",
      "attempts        77809 non-null int64\n",
      "user_type       42674 non-null object\n",
      "recordtype      77809 non-null object\n",
      "dtypes: int64(3), object(3)\n",
      "memory usage: 3.3+ MB\n"
     ]
    }
   ],
   "source": [
    "fullUsers.info()"
   ]
  },
  {
   "cell_type": "code",
   "execution_count": 80,
   "metadata": {},
   "outputs": [
    {
     "data": {
      "text/plain": [
       "user_type\n",
       "S    11\n",
       "W     6\n",
       "Name: attempts, dtype: int64"
      ]
     },
     "execution_count": 80,
     "output_type": "execute_result",
     "metadata": {}
    }
   ],
   "source": [
    "fullUsers.groupby('user_type')['attempts'].median()"
   ]
  },
  {
   "cell_type": "code",
   "execution_count": 13,
   "metadata": {},
   "outputs": [],
   "source": [
    "fullUsers.user_type.fillna('W',inplace=True)"
   ]
  },
  {
   "cell_type": "code",
   "execution_count": 14,
   "metadata": {},
   "outputs": [],
   "source": [
    "testUsersCleaned=fullUsers.loc[fullUsers['recordtype']=='test',]\n",
    "trainUsersCleaned=fullUsers.loc[fullUsers['recordtype']=='train',]"
   ]
  },
  {
   "cell_type": "code",
   "execution_count": 119,
   "metadata": {},
   "outputs": [
    {
     "name": "stdout",
     "output_type": "stream",
     "text": [
      "<class 'pandas.core.frame.DataFrame'>\n",
      "Int64Index: 62530 entries, 0 to 62529\n",
      "Data columns (total 6 columns):\n",
      "user_id         62530 non-null int64\n",
      "skills          62271 non-null object\n",
      "solved_count    62530 non-null int64\n",
      "attempts        62530 non-null int64\n",
      "user_type       62530 non-null object\n",
      "recordtype      62530 non-null object\n",
      "dtypes: int64(3), object(3)\n",
      "memory usage: 2.6+ MB\n"
     ]
    }
   ],
   "source": [
    "trainUsersCleaned.info()"
   ]
  },
  {
   "cell_type": "code",
   "execution_count": 15,
   "metadata": {},
   "outputs": [],
   "source": [
    "trainSubmissions['solved']=0"
   ]
  },
  {
   "cell_type": "code",
   "execution_count": 16,
   "metadata": {},
   "outputs": [],
   "source": [
    "mask=(trainSubmissions['solved_status']=='SO') & (trainSubmissions['result']=='AC')"
   ]
  },
  {
   "cell_type": "code",
   "execution_count": 17,
   "metadata": {},
   "outputs": [],
   "source": [
    "trainSubmissions.loc[mask,'solved']=1"
   ]
  },
  {
   "cell_type": "code",
   "execution_count": 18,
   "metadata": {},
   "outputs": [],
   "source": [
    "trainSubmissions=trainSubmissions.drop(['solved_status','result','language_used','execution_time'],axis=1)"
   ]
  },
  {
   "cell_type": "code",
   "execution_count": 132,
   "metadata": {},
   "outputs": [
    {
     "data": {
      "text/html": [
       "<div>\n",
       "<table border=\"1\" class=\"dataframe\">\n",
       "  <thead>\n",
       "    <tr style=\"text-align: right;\">\n",
       "      <th></th>\n",
       "      <th>user_id</th>\n",
       "      <th>problem_id</th>\n",
       "      <th>solved</th>\n",
       "    </tr>\n",
       "  </thead>\n",
       "  <tbody>\n",
       "    <tr>\n",
       "      <th>0</th>\n",
       "      <td>1056149</td>\n",
       "      <td>918786</td>\n",
       "      <td>0</td>\n",
       "    </tr>\n",
       "    <tr>\n",
       "      <th>1</th>\n",
       "      <td>1056149</td>\n",
       "      <td>918786</td>\n",
       "      <td>1</td>\n",
       "    </tr>\n",
       "    <tr>\n",
       "      <th>2</th>\n",
       "      <td>1347625</td>\n",
       "      <td>909223</td>\n",
       "      <td>1</td>\n",
       "    </tr>\n",
       "    <tr>\n",
       "      <th>3</th>\n",
       "      <td>967099</td>\n",
       "      <td>936829</td>\n",
       "      <td>1</td>\n",
       "    </tr>\n",
       "    <tr>\n",
       "      <th>4</th>\n",
       "      <td>924192</td>\n",
       "      <td>916333</td>\n",
       "      <td>0</td>\n",
       "    </tr>\n",
       "  </tbody>\n",
       "</table>\n",
       "</div>"
      ]
     },
     "output_type": "execute_result",
     "metadata": {}
    }
   ],
   "source": [
    "trainSubmissions.head()"
   ]
  },
  {
   "cell_type": "raw",
   "metadata": {},
   "source": []
  },
  {
   "cell_type": "code",
   "execution_count": 78,
   "metadata": {},
   "outputs": [
    {
     "data": {
      "text/plain": [
       "array([[<matplotlib.axes._subplots.AxesSubplot object at 0x113201B0>,\n",
       "        <matplotlib.axes._subplots.AxesSubplot object at 0x1BE6F730>,\n",
       "        <matplotlib.axes._subplots.AxesSubplot object at 0x12BFB4B0>],\n",
       "       [<matplotlib.axes._subplots.AxesSubplot object at 0x131A4BB0>,\n",
       "        <matplotlib.axes._subplots.AxesSubplot object at 0x1BE83210>,\n",
       "        <matplotlib.axes._subplots.AxesSubplot object at 0x1BF55690>],\n",
       "       [<matplotlib.axes._subplots.AxesSubplot object at 0x1311B1B0>,\n",
       "        <matplotlib.axes._subplots.AxesSubplot object at 0x12E62A10>,\n",
       "        <matplotlib.axes._subplots.AxesSubplot object at 0x12E3D930>]], dtype=object)"
      ]
     },
     "execution_count": 78,
     "output_type": "execute_result",
     "metadata": {}
    },
    {
     "name": "stderr",
     "output_type": "stream",
     "text": [
      "C:\\Users\\abhil\\Anaconda\\lib\\site-packages\\matplotlib\\collections.py:590: FutureWarning: elementwise comparison failed; returning scalar instead, but in the future will perform elementwise comparison\n",
      "  if self._edgecolors == str('face'):\n"
     ]
    },
    {
     "data": {
      "image/png": "[encoded data removed]"
     },
     "output_type": "display_data",
     "metadata": {}
    }
   ],
   "source": [
    "pd.tools.plotting.scatter_matrix(fullUsers, alpha=0.2, figsize=(6, 6), diagonal='kde')"
   ]
  },
  {
   "cell_type": "code",
   "execution_count": 19,
   "metadata": {},
   "outputs": [
    {
     "data": {
      "text/plain": [
       "(1048575, 13)"
      ]
     },
     "execution_count": 19,
     "output_type": "execute_result",
     "metadata": {}
    }
   ],
   "source": [
    "trainMerged=pd.merge(trainSubmissions,trainProblems, left_on='problem_id', right_on='problem_id', how='inner')\n",
    "trainMerged=pd.merge(trainMerged, trainUsersCleaned, left_on='user_id', right_on='user_id', how='inner')\n",
    "trainMerged.shape"
   ]
  },
  {
   "cell_type": "code",
   "execution_count": 20,
   "metadata": {},
   "outputs": [
    {
     "ename": "ValueError",
     "evalue": "labels ['solved_status' 'result' 'execution_time' 'language_used'] not contained in axis",
     "output_type": "error",
     "traceback": [
      "\u001b[1;31m---------------------------------------------------------------------------\u001b[0m",
      "\u001b[1;31mValueError\u001b[0m                                Traceback (most recent call last)",
      "\u001b[1;32m<ipython-input-20-851fef3d66a9>\u001b[0m in \u001b[0;36m<module>\u001b[1;34m()\u001b[0m\n\u001b[1;32m----> 1\u001b[1;33m \u001b[0mtrainMerged\u001b[0m\u001b[1;33m=\u001b[0m\u001b[0mtrainMerged\u001b[0m\u001b[1;33m.\u001b[0m\u001b[0mdrop\u001b[0m\u001b[1;33m(\u001b[0m\u001b[1;33m[\u001b[0m\u001b[1;34m'solved_status'\u001b[0m\u001b[1;33m,\u001b[0m\u001b[1;34m'result'\u001b[0m\u001b[1;33m,\u001b[0m\u001b[1;34m'recordtype'\u001b[0m\u001b[1;33m,\u001b[0m\u001b[1;34m'execution_time'\u001b[0m\u001b[1;33m,\u001b[0m\u001b[1;34m'language_used'\u001b[0m\u001b[1;33m]\u001b[0m\u001b[1;33m,\u001b[0m\u001b[0maxis\u001b[0m\u001b[1;33m=\u001b[0m\u001b[1;36m1\u001b[0m\u001b[1;33m)\u001b[0m\u001b[1;33m\u001b[0m\u001b[0m\n\u001b[0m",
      "\u001b[1;32mC:\\Users\\abhil\\Anaconda\\lib\\site-packages\\pandas\\core\\generic.pyc\u001b[0m in \u001b[0;36mdrop\u001b[1;34m(self, labels, axis, level, inplace, errors)\u001b[0m\n\u001b[0;32m   1595\u001b[0m                 \u001b[0mnew_axis\u001b[0m \u001b[1;33m=\u001b[0m \u001b[0maxis\u001b[0m\u001b[1;33m.\u001b[0m\u001b[0mdrop\u001b[0m\u001b[1;33m(\u001b[0m\u001b[0mlabels\u001b[0m\u001b[1;33m,\u001b[0m \u001b[0mlevel\u001b[0m\u001b[1;33m=\u001b[0m\u001b[0mlevel\u001b[0m\u001b[1;33m,\u001b[0m \u001b[0merrors\u001b[0m\u001b[1;33m=\u001b[0m\u001b[0merrors\u001b[0m\u001b[1;33m)\u001b[0m\u001b[1;33m\u001b[0m\u001b[0m\n\u001b[0;32m   1596\u001b[0m             \u001b[1;32melse\u001b[0m\u001b[1;33m:\u001b[0m\u001b[1;33m\u001b[0m\u001b[0m\n\u001b[1;32m-> 1597\u001b[1;33m                 \u001b[0mnew_axis\u001b[0m \u001b[1;33m=\u001b[0m \u001b[0maxis\u001b[0m\u001b[1;33m.\u001b[0m\u001b[0mdrop\u001b[0m\u001b[1;33m(\u001b[0m\u001b[0mlabels\u001b[0m\u001b[1;33m,\u001b[0m \u001b[0merrors\u001b[0m\u001b[1;33m=\u001b[0m\u001b[0merrors\u001b[0m\u001b[1;33m)\u001b[0m\u001b[1;33m\u001b[0m\u001b[0m\n\u001b[0m\u001b[0;32m   1598\u001b[0m             \u001b[0mdropped\u001b[0m \u001b[1;33m=\u001b[0m \u001b[0mself\u001b[0m\u001b[1;33m.\u001b[0m\u001b[0mreindex\u001b[0m\u001b[1;33m(\u001b[0m\u001b[1;33m**\u001b[0m\u001b[1;33m{\u001b[0m\u001b[0maxis_name\u001b[0m\u001b[1;33m:\u001b[0m \u001b[0mnew_axis\u001b[0m\u001b[1;33m}\u001b[0m\u001b[1;33m)\u001b[0m\u001b[1;33m\u001b[0m\u001b[0m\n\u001b[0;32m   1599\u001b[0m             \u001b[1;32mtry\u001b[0m\u001b[1;33m:\u001b[0m\u001b[1;33m\u001b[0m\u001b[0m\n",
      "\u001b[1;32mC:\\Users\\abhil\\Anaconda\\lib\\site-packages\\pandas\\core\\index.pyc\u001b[0m in \u001b[0;36mdrop\u001b[1;34m(self, labels, errors)\u001b[0m\n\u001b[0;32m   2568\u001b[0m         \u001b[1;32mif\u001b[0m \u001b[0mmask\u001b[0m\u001b[1;33m.\u001b[0m\u001b[0many\u001b[0m\u001b[1;33m(\u001b[0m\u001b[1;33m)\u001b[0m\u001b[1;33m:\u001b[0m\u001b[1;33m\u001b[0m\u001b[0m\n\u001b[0;32m   2569\u001b[0m             \u001b[1;32mif\u001b[0m \u001b[0merrors\u001b[0m \u001b[1;33m!=\u001b[0m \u001b[1;34m'ignore'\u001b[0m\u001b[1;33m:\u001b[0m\u001b[1;33m\u001b[0m\u001b[0m\n\u001b[1;32m-> 2570\u001b[1;33m                 \u001b[1;32mraise\u001b[0m \u001b[0mValueError\u001b[0m\u001b[1;33m(\u001b[0m\u001b[1;34m'labels %s not contained in axis'\u001b[0m \u001b[1;33m%\u001b[0m \u001b[0mlabels\u001b[0m\u001b[1;33m[\u001b[0m\u001b[0mmask\u001b[0m\u001b[1;33m]\u001b[0m\u001b[1;33m)\u001b[0m\u001b[1;33m\u001b[0m\u001b[0m\n\u001b[0m\u001b[0;32m   2571\u001b[0m             \u001b[0mindexer\u001b[0m \u001b[1;33m=\u001b[0m \u001b[0mindexer\u001b[0m\u001b[1;33m[\u001b[0m\u001b[1;33m~\u001b[0m\u001b[0mmask\u001b[0m\u001b[1;33m]\u001b[0m\u001b[1;33m\u001b[0m\u001b[0m\n\u001b[0;32m   2572\u001b[0m         \u001b[1;32mreturn\u001b[0m \u001b[0mself\u001b[0m\u001b[1;33m.\u001b[0m\u001b[0mdelete\u001b[0m\u001b[1;33m(\u001b[0m\u001b[0mindexer\u001b[0m\u001b[1;33m)\u001b[0m\u001b[1;33m\u001b[0m\u001b[0m\n",
      "\u001b[1;31mValueError\u001b[0m: labels ['solved_status' 'result' 'execution_time' 'language_used'] not contained in axis"
     ]
    }
   ],
   "source": [
    "trainMerged=trainMerged.drop(['solved_status','result','recordtype','execution_time','language_used'],axis=1)"
   ]
  },
  {
   "cell_type": "code",
   "execution_count": 21,
   "metadata": {},
   "outputs": [
    {
     "data": {
      "text/html": [
       "<div>\n",
       "<table border=\"1\" class=\"dataframe\">\n",
       "  <thead>\n",
       "    <tr style=\"text-align: right;\">\n",
       "      <th></th>\n",
       "      <th>user_id</th>\n",
       "      <th>problem_id</th>\n",
       "      <th>solved</th>\n",
       "      <th>level</th>\n",
       "      <th>solved_count_x</th>\n",
       "      <th>error_count</th>\n",
       "      <th>rating</th>\n",
       "      <th>tag1</th>\n",
       "      <th>skills</th>\n",
       "      <th>solved_count_y</th>\n",
       "      <th>attempts</th>\n",
       "      <th>user_type</th>\n",
       "      <th>recordtype</th>\n",
       "    </tr>\n",
       "  </thead>\n",
       "  <tbody>\n",
       "    <tr>\n",
       "      <th>0</th>\n",
       "      <td>1056149</td>\n",
       "      <td>918786</td>\n",
       "      <td>0</td>\n",
       "      <td>E</td>\n",
       "      <td>755</td>\n",
       "      <td>1071</td>\n",
       "      <td>3.4</td>\n",
       "      <td>Ad-Hoc</td>\n",
       "      <td>Python|C|Java|C++</td>\n",
       "      <td>217</td>\n",
       "      <td>118</td>\n",
       "      <td>W</td>\n",
       "      <td>train</td>\n",
       "    </tr>\n",
       "    <tr>\n",
       "      <th>1</th>\n",
       "      <td>1056149</td>\n",
       "      <td>918786</td>\n",
       "      <td>1</td>\n",
       "      <td>E</td>\n",
       "      <td>755</td>\n",
       "      <td>1071</td>\n",
       "      <td>3.4</td>\n",
       "      <td>Ad-Hoc</td>\n",
       "      <td>Python|C|Java|C++</td>\n",
       "      <td>217</td>\n",
       "      <td>118</td>\n",
       "      <td>W</td>\n",
       "      <td>train</td>\n",
       "    </tr>\n",
       "    <tr>\n",
       "      <th>2</th>\n",
       "      <td>1056149</td>\n",
       "      <td>909223</td>\n",
       "      <td>1</td>\n",
       "      <td>E</td>\n",
       "      <td>1691</td>\n",
       "      <td>1465</td>\n",
       "      <td>2.6</td>\n",
       "      <td>no value</td>\n",
       "      <td>Python|C|Java|C++</td>\n",
       "      <td>217</td>\n",
       "      <td>118</td>\n",
       "      <td>W</td>\n",
       "      <td>train</td>\n",
       "    </tr>\n",
       "    <tr>\n",
       "      <th>3</th>\n",
       "      <td>1056149</td>\n",
       "      <td>913738</td>\n",
       "      <td>0</td>\n",
       "      <td>E</td>\n",
       "      <td>2241</td>\n",
       "      <td>8197</td>\n",
       "      <td>4.0</td>\n",
       "      <td>Implementation</td>\n",
       "      <td>Python|C|Java|C++</td>\n",
       "      <td>217</td>\n",
       "      <td>118</td>\n",
       "      <td>W</td>\n",
       "      <td>train</td>\n",
       "    </tr>\n",
       "    <tr>\n",
       "      <th>4</th>\n",
       "      <td>1056149</td>\n",
       "      <td>913738</td>\n",
       "      <td>1</td>\n",
       "      <td>E</td>\n",
       "      <td>2241</td>\n",
       "      <td>8197</td>\n",
       "      <td>4.0</td>\n",
       "      <td>Implementation</td>\n",
       "      <td>Python|C|Java|C++</td>\n",
       "      <td>217</td>\n",
       "      <td>118</td>\n",
       "      <td>W</td>\n",
       "      <td>train</td>\n",
       "    </tr>\n",
       "  </tbody>\n",
       "</table>\n",
       "</div>"
      ]
     },
     "output_type": "execute_result",
     "metadata": {}
    }
   ],
   "source": [
    "trainMerged.head()"
   ]
  },
  {
   "cell_type": "code",
   "execution_count": 148,
   "metadata": {},
   "outputs": [],
   "source": [
    "target = [x[2] for x in trainMerged]\n",
    "train = [x[1:] for x in trainMerged]"
   ]
  },
  {
   "cell_type": "code",
   "execution_count": 24,
   "metadata": {},
   "outputs": [
    {
     "name": "stdout",
     "output_type": "stream",
     "text": [
      "<class 'pandas.core.frame.DataFrame'>\n",
      "Int64Index: 1048575 entries, 0 to 1048574\n",
      "Data columns (total 10 columns):\n",
      "user_id           1048575 non-null int64\n",
      "problem_id        1048575 non-null int64\n",
      "solved            1048575 non-null int64\n",
      "level             1048575 non-null object\n",
      "solved_count_x    1048575 non-null int64\n",
      "error_count       1048575 non-null int64\n",
      "rating            1048575 non-null float64\n",
      "solved_count_y    1048575 non-null int64\n",
      "attempts          1048575 non-null int64\n",
      "user_type         1048575 non-null object\n",
      "dtypes: float64(1), int64(7), object(2)\n",
      "memory usage: 80.0+ MB\n"
     ]
    }
   ],
   "source": [
    "trainMerged.info()"
   ]
  },
  {
   "cell_type": "raw",
   "metadata": {},
   "source": []
  },
  {
   "cell_type": "code",
   "execution_count": 36,
   "metadata": {},
   "outputs": [],
   "source": [
    "trainMerged.user_id=trainMerged.user_id.astype('int32')\n",
    "trainMerged.problem_id=trainMerged.problem_id.astype('int32')\n",
    "trainMerged.solved=trainMerged.solved.astype('int32')\n",
    "trainMerged.solved_count_x=trainMerged.solved_count_x.astype('int32')\n",
    "trainMerged.error_count=trainMerged.error_count.astype('int32')\n",
    "trainMerged.rating=trainMerged.rating.astype('float32')\n",
    "trainMerged.solved_count_y=trainMerged.solved_count_y.astype('int32')\n",
    "trainMerged.attempts=trainMerged.attempts.astype('int32')"
   ]
  },
  {
   "cell_type": "code",
   "execution_count": 37,
   "metadata": {},
   "outputs": [],
   "source": [
    "features = [u'user_id', u'problem_id', u'level', u'solved_count_x',\n",
    "       u'error_count', u'rating', u'solved_count_y', u'attempts',\n",
    "       u'user_type']"
   ]
  },
  {
   "cell_type": "code",
   "execution_count": 38,
   "metadata": {},
   "outputs": [],
   "source": [
    "y, _ = pd.factorize(trainMerged['solved'])"
   ]
  },
  {
   "cell_type": "code",
   "execution_count": 25,
   "metadata": {},
   "outputs": [],
   "source": [
    "le_level = preprocessing.LabelEncoder()\n",
    "#to convert into numbers\n",
    "trainMerged.level = le_level.fit_transform(trainMerged.level)"
   ]
  },
  {
   "cell_type": "code",
   "execution_count": 26,
   "metadata": {},
   "outputs": [],
   "source": [
    "le_type = preprocessing.LabelEncoder()\n",
    "#to convert into numbers\n",
    "trainMerged.user_type = le_type.fit_transform(trainMerged.user_type)"
   ]
  },
  {
   "cell_type": "code",
   "execution_count": 23,
   "metadata": {},
   "outputs": [],
   "source": [
    "trainMerged=trainMerged.drop(['tag1','skills','recordtype'],axis=1)"
   ]
  },
  {
   "cell_type": "code",
   "execution_count": null,
   "metadata": {},
   "outputs": [],
   "source": [
    "rf = RandomForestClassifier(n_estimators=30)\n",
    "rf.fit(trainMerged[features], y)"
   ]
  },
  {
   "cell_type": "code",
   "execution_count": null,
   "metadata": {},
   "outputs": [],
   "source": [
    ""
   ]
  }
 ],
 "metadata": {
  "kernelspec": {
   "display_name": "Python 2",
   "language": "python",
   "name": "python2"
  },
  "language_info": {
   "codemirror_mode": {
    "name": "ipython",
    "version": 2.0
   },
   "file_extension": ".py",
   "mimetype": "text/x-python",
   "name": "python",
   "nbconvert_exporter": "python",
   "pygments_lexer": "ipython2",
   "version": "2.7.10"
  }
 },
 "nbformat": 4,
 "nbformat_minor": 0
}