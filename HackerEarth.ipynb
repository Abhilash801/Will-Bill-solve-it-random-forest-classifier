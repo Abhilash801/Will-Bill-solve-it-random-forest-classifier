{
 "cells": [
  {
   "cell_type": "markdown",
   "metadata": {},
   "source": [
    "# import libraries"
   ]
  },
  {
   "cell_type": "code",
   "execution_count": 86,
   "metadata": {
    "collapsed": false
   },
   "outputs": [],
   "source": [
    "import pandas as pd\n",
    "import numpy as np\n",
    "import matplotlib.pyplot as plt\n",
    "from sklearn.preprocessing import LabelEncoder\n",
    "import random\n",
    "from sklearn.ensemble import RandomForestClassifier\n",
    "from sklearn.metrics import confusion_matrix\n",
    "from sklearn.neighbors import KNeighborsClassifier as Knearestneighbors\n",
    "%matplotlib inline\n",
    "\n"
   ]
  },
  {
   "cell_type": "markdown",
   "metadata": {},
   "source": [
    "# Set current directory and load data"
   ]
  },
  {
   "cell_type": "code",
   "execution_count": 142,
   "metadata": {
    "collapsed": true
   },
   "outputs": [],
   "source": [
    "pwd='C:\\OneDrive\\MSBA\\kaggle\\will_bill_solve_it.tar\\will_bill_solve_it'\n",
    "trainProblems=pd.read_csv(pwd+'/train/problems.csv')\n",
    "trainUsers=pd.read_csv(pwd+'/train/users.csv')\n",
    "trainSubmissions=pd.read_csv(pwd+'/train/submissions.csv')\n",
    "testProblems=pd.read_csv(pwd+'/test/problems-test.csv')\n",
    "testUsers=pd.read_csv(pwd+'/test/users-test.csv')\n",
    "#this file contains only problem id to user submission mapping no other details provided\n",
    "testSubmissions=pd.read_csv(pwd+'/test/test.csv')\n"
   ]
  },
  {
   "cell_type": "markdown",
   "metadata": {},
   "source": [
    "# Combining test and train datasets for preprocessing the data\n"
   ]
  },
  {
   "cell_type": "code",
   "execution_count": 143,
   "metadata": {
    "collapsed": true
   },
   "outputs": [],
   "source": [
    "trainProblems['recordtype']='train'\n",
    "testProblems['recordtype']='test'"
   ]
  },
  {
   "cell_type": "code",
   "execution_count": 144,
   "metadata": {
    "collapsed": true
   },
   "outputs": [],
   "source": [
    "fullProblems=pd.concat([trainProblems,testProblems])"
   ]
  },
  {
   "cell_type": "code",
   "execution_count": 145,
   "metadata": {
    "collapsed": false
   },
   "outputs": [
    {
     "name": "stdout",
     "output_type": "stream",
     "text": [
      "<class 'pandas.core.frame.DataFrame'>\n",
      "Int64Index: 1958 entries, 0 to 955\n",
      "Data columns (total 12 columns):\n",
      "problem_id      1958 non-null int64\n",
      "level           1520 non-null object\n",
      "accuracy        1958 non-null float64\n",
      "solved_count    1958 non-null int64\n",
      "error_count     1958 non-null int64\n",
      "rating          1958 non-null float64\n",
      "tag1            1391 non-null object\n",
      "tag2            895 non-null object\n",
      "tag3            339 non-null object\n",
      "tag4            87 non-null object\n",
      "tag5            13 non-null object\n",
      "recordtype      1958 non-null object\n",
      "dtypes: float64(2), int64(3), object(7)\n",
      "memory usage: 198.9+ KB\n"
     ]
    }
   ],
   "source": [
    "fullProblems.info()# gives number of non-missing values in the data"
   ]
  },
  {
   "cell_type": "code",
   "execution_count": 146,
   "metadata": {
    "collapsed": false
   },
   "outputs": [
    {
     "data": {
      "text/plain": [
       "<matplotlib.axes._subplots.AxesSubplot at 0x7100338278>"
      ]
     },
     "execution_count": 146,
     "metadata": {},
     "output_type": "execute_result"
    },
    {
     "data": {
      "image/png": "[encoded data removed]",
      "text/plain": [
       "<matplotlib.figure.Figure at 0x7100338c50>"
      ]
     },
     "metadata": {},
     "output_type": "display_data"
    }
   ],
   "source": [
    "fullProblems.solved_count.hist() # getting an idea of solved count values distribution over problems"
   ]
  },
  {
   "cell_type": "code",
   "execution_count": 147,
   "metadata": {
    "collapsed": false
   },
   "outputs": [
    {
     "data": {
      "text/html": [
       "<div>\n",
       "<table border=\"1\" class=\"dataframe\">\n",
       "  <thead>\n",
       "    <tr style=\"text-align: right;\">\n",
       "      <th></th>\n",
       "      <th>solved_count</th>\n",
       "    </tr>\n",
       "  </thead>\n",
       "  <tbody>\n",
       "    <tr>\n",
       "      <th>count</th>\n",
       "      <td>456.000000</td>\n",
       "    </tr>\n",
       "    <tr>\n",
       "      <th>mean</th>\n",
       "      <td>210.067982</td>\n",
       "    </tr>\n",
       "    <tr>\n",
       "      <th>std</th>\n",
       "      <td>525.837423</td>\n",
       "    </tr>\n",
       "    <tr>\n",
       "      <th>min</th>\n",
       "      <td>0.000000</td>\n",
       "    </tr>\n",
       "    <tr>\n",
       "      <th>25%</th>\n",
       "      <td>32.000000</td>\n",
       "    </tr>\n",
       "    <tr>\n",
       "      <th>50%</th>\n",
       "      <td>84.000000</td>\n",
       "    </tr>\n",
       "    <tr>\n",
       "      <th>75%</th>\n",
       "      <td>200.500000</td>\n",
       "    </tr>\n",
       "    <tr>\n",
       "      <th>max</th>\n",
       "      <td>8922.000000</td>\n",
       "    </tr>\n",
       "  </tbody>\n",
       "</table>\n",
       "</div>"
      ],
      "text/plain": [
       "       solved_count\n",
       "count    456.000000\n",
       "mean     210.067982\n",
       "std      525.837423\n",
       "min        0.000000\n",
       "25%       32.000000\n",
       "50%       84.000000\n",
       "75%      200.500000\n",
       "max     8922.000000"
      ]
     },
     "execution_count": 147,
     "metadata": {},
     "output_type": "execute_result"
    }
   ],
   "source": [
    "#checking the distribution of problems that are solved for level values that are missing\n",
    "fullProblems.ix[pd.isnull(trainProblems.level),3:4].describe() \n"
   ]
  },
  {
   "cell_type": "code",
   "execution_count": 151,
   "metadata": {
    "collapsed": false
   },
   "outputs": [
    {
     "data": {
      "text/plain": [
       "level\n",
       "E      540.891396\n",
       "E-M    178.109677\n",
       "H       35.447368\n",
       "M      118.416667\n",
       "M-H     59.375000\n",
       "O       60.750000\n",
       "Name: solved_count, dtype: float64"
      ]
     },
     "execution_count": 151,
     "metadata": {},
     "output_type": "execute_result"
    }
   ],
   "source": [
    "#Average number of problems solved at each level\n",
    "fullProblems.groupby('level')['solved_count'].mean()\n"
   ]
  },
  {
   "cell_type": "code",
   "execution_count": 152,
   "metadata": {
    "collapsed": false
   },
   "outputs": [
    {
     "data": {
      "text/plain": [
       "level\n",
       "E      709\n",
       "E-M    155\n",
       "H      152\n",
       "M      468\n",
       "M-H     32\n",
       "O        4\n",
       "Name: problem_id, dtype: int64"
      ]
     },
     "execution_count": 152,
     "metadata": {},
     "output_type": "execute_result"
    }
   ],
   "source": [
    "fullProblems.groupby('level')['problem_id'].count()"
   ]
  },
  {
   "cell_type": "markdown",
   "metadata": {},
   "source": [
    "## 75 % of solved_count data lies in the range of 21-130 for missing 'level' values. Also M and E-M levels falls in this range.However, number of M observations is three times that of E-M. Hence setting missing level values to M difficulty based on the data"
   ]
  },
  {
   "cell_type": "code",
   "execution_count": 153,
   "metadata": {
    "collapsed": true
   },
   "outputs": [],
   "source": [
    "fullProblems.level.fillna('M',inplace=True)\n"
   ]
  },
  {
   "cell_type": "code",
   "execution_count": 154,
   "metadata": {
    "collapsed": false
   },
   "outputs": [],
   "source": [
    "#More than 50 % of the data in these columns has missing values hence dropping them. Accuracy has very less variability\n",
    "fullProblems=fullProblems.drop(['tag2','tag3','tag4','tag5'],axis=1)\n"
   ]
  },
  {
   "cell_type": "code",
   "execution_count": 167,
   "metadata": {
    "collapsed": false
   },
   "outputs": [
    {
     "data": {
      "text/plain": [
       "tag1\n",
       "Binary Tree                 1\n",
       "Bipartite Graph             1\n",
       "cake-walk                   2\n",
       "adhoc                       2\n",
       "Flow                        2\n",
       "Fenwick Tree                2\n",
       "Extended Euclid             2\n",
       "Queue                       2\n",
       "Data-Structures             2\n",
       "DFS                         2\n",
       "Simple-math                 2\n",
       "Matrix Exponentiation       2\n",
       "Completed                   2\n",
       "Modular arithmetic          2\n",
       "Ad-hoc                      2\n",
       "Trees                       2\n",
       "HashMap                     2\n",
       "Binary Search Tree          2\n",
       "Minimum Spanning Tree       3\n",
       "Number Theory               3\n",
       "Floyd Warshall              3\n",
       "Game Theory                 3\n",
       "Modular exponentiation      4\n",
       "Heap                        4\n",
       "Sailesh Arya                4\n",
       "Dijkstra                    5\n",
       "Sieve                       5\n",
       "Priority Queue              6\n",
       "Trie                        6\n",
       "BIT                         6\n",
       "Probability                 7\n",
       "Disjoint Set                8\n",
       "Greedy                      9\n",
       "Prime Factorization         9\n",
       "String Algorithms          10\n",
       "Hashing                    11\n",
       "Bitmask                    12\n",
       "Brute Force                14\n",
       "Segment Trees              17\n",
       "BFS                        21\n",
       "Bit manipulation           22\n",
       "Recursion                  23\n",
       "Geometry                   24\n",
       "Graph Theory               35\n",
       "Sorting                    38\n",
       "Binary Search              49\n",
       "Combinatorics              53\n",
       "Data Structures            79\n",
       "Implementation             83\n",
       "Dynamic Programming       103\n",
       "Basic Programming         131\n",
       "Math                      139\n",
       "Algorithms                201\n",
       "Ad-Hoc                    207\n",
       "Name: problem_id, dtype: int64"
      ]
     },
     "execution_count": 167,
     "metadata": {},
     "output_type": "execute_result"
    }
   ],
   "source": [
    "df=fullProblems.groupby('tag1')['problem_id'].count()\n",
    "df.sort_values()"
   ]
  },
  {
   "cell_type": "code",
   "execution_count": 169,
   "metadata": {
    "collapsed": false
   },
   "outputs": [],
   "source": [
    "#filling missing values with no value as no single value for tag1 has a clear majority in its occurence\n",
    "fullProblems.tag1.fillna('no value',inplace=True)\n"
   ]
  },
  {
   "cell_type": "code",
   "execution_count": 175,
   "metadata": {
    "collapsed": true
   },
   "outputs": [],
   "source": [
    "trainProblems= fullProblems.loc[fullProblems['recordtype']=='train','problem_id':'tag1']\n",
    "testProblems= fullProblems.loc[fullProblems['recordtype']=='test','problem_id':'tag1']"
   ]
  },
  {
   "cell_type": "code",
   "execution_count": 176,
   "metadata": {
    "collapsed": true
   },
   "outputs": [],
   "source": [
    "trainUsers['recordtype']='train'\n",
    "testUsers['recordtype']='test'"
   ]
  },
  {
   "cell_type": "code",
   "execution_count": 177,
   "metadata": {
    "collapsed": false
   },
   "outputs": [],
   "source": [
    "fullUsers=pd.concat([trainUsers,testUsers])"
   ]
  },
  {
   "cell_type": "code",
   "execution_count": 178,
   "metadata": {
    "collapsed": false
   },
   "outputs": [
    {
     "data": {
      "text/html": [
       "<div>\n",
       "<table border=\"1\" class=\"dataframe\">\n",
       "  <thead>\n",
       "    <tr style=\"text-align: right;\">\n",
       "      <th></th>\n",
       "      <th>user_id</th>\n",
       "      <th>solved_count</th>\n",
       "      <th>attempts</th>\n",
       "    </tr>\n",
       "  </thead>\n",
       "  <tbody>\n",
       "    <tr>\n",
       "      <th>count</th>\n",
       "      <td>77809.000000</td>\n",
       "      <td>77809.000000</td>\n",
       "      <td>77809.000000</td>\n",
       "    </tr>\n",
       "    <tr>\n",
       "      <th>mean</th>\n",
       "      <td>1155162.355576</td>\n",
       "      <td>10.657071</td>\n",
       "      <td>15.608117</td>\n",
       "    </tr>\n",
       "    <tr>\n",
       "      <th>std</th>\n",
       "      <td>177017.284906</td>\n",
       "      <td>26.594750</td>\n",
       "      <td>49.933960</td>\n",
       "    </tr>\n",
       "    <tr>\n",
       "      <th>min</th>\n",
       "      <td>903633.000000</td>\n",
       "      <td>0.000000</td>\n",
       "      <td>0.000000</td>\n",
       "    </tr>\n",
       "    <tr>\n",
       "      <th>25%</th>\n",
       "      <td>997644.000000</td>\n",
       "      <td>1.000000</td>\n",
       "      <td>2.000000</td>\n",
       "    </tr>\n",
       "    <tr>\n",
       "      <th>50%</th>\n",
       "      <td>1123249.000000</td>\n",
       "      <td>3.000000</td>\n",
       "      <td>5.000000</td>\n",
       "    </tr>\n",
       "    <tr>\n",
       "      <th>75%</th>\n",
       "      <td>1315405.000000</td>\n",
       "      <td>9.000000</td>\n",
       "      <td>16.000000</td>\n",
       "    </tr>\n",
       "    <tr>\n",
       "      <th>max</th>\n",
       "      <td>1556984.000000</td>\n",
       "      <td>789.000000</td>\n",
       "      <td>7211.000000</td>\n",
       "    </tr>\n",
       "  </tbody>\n",
       "</table>\n",
       "</div>"
      ],
      "text/plain": [
       "              user_id  solved_count      attempts\n",
       "count    77809.000000  77809.000000  77809.000000\n",
       "mean   1155162.355576     10.657071     15.608117\n",
       "std     177017.284906     26.594750     49.933960\n",
       "min     903633.000000      0.000000      0.000000\n",
       "25%     997644.000000      1.000000      2.000000\n",
       "50%    1123249.000000      3.000000      5.000000\n",
       "75%    1315405.000000      9.000000     16.000000\n",
       "max    1556984.000000    789.000000   7211.000000"
      ]
     },
     "execution_count": 178,
     "metadata": {},
     "output_type": "execute_result"
    }
   ],
   "source": [
    "fullUsers.describe()"
   ]
  },
  {
   "cell_type": "code",
   "execution_count": 213,
   "metadata": {
    "collapsed": false
   },
   "outputs": [
    {
     "name": "stdout",
     "output_type": "stream",
     "text": [
      "<class 'pandas.core.frame.DataFrame'>\n",
      "Int64Index: 77809 entries, 0 to 15278\n",
      "Data columns (total 6 columns):\n",
      "user_id         77809 non-null int64\n",
      "skills          77550 non-null object\n",
      "solved_count    77809 non-null int64\n",
      "attempts        77809 non-null int64\n",
      "user_type       77809 non-null object\n",
      "recordtype      77809 non-null object\n",
      "dtypes: int64(3), object(3)\n",
      "memory usage: 4.2+ MB\n"
     ]
    }
   ],
   "source": [
    "fullUsers.info()"
   ]
  },
  {
   "cell_type": "code",
   "execution_count": 181,
   "metadata": {
    "collapsed": false
   },
   "outputs": [
    {
     "data": {
      "text/plain": [
       "user_type\n",
       "S     8664\n",
       "W    34010\n",
       "Name: user_id, dtype: int64"
      ]
     },
     "execution_count": 181,
     "metadata": {},
     "output_type": "execute_result"
    }
   ],
   "source": [
    "fullUsers.groupby('user_type')['user_id'].count()"
   ]
  },
  {
   "cell_type": "code",
   "execution_count": 212,
   "metadata": {
    "collapsed": false
   },
   "outputs": [],
   "source": [
    "#replacing missing values with 'w' as it has the most number of occurences\n",
    "fullUsers.user_type.fillna('W',inplace=True)"
   ]
  },
  {
   "cell_type": "code",
   "execution_count": 216,
   "metadata": {
    "collapsed": false
   },
   "outputs": [
    {
     "data": {
      "text/plain": [
       "skills\n",
       "JavaScript(Node.js)|C#                                                                                              1\n",
       "Python|C#|C|Go|C++                                                                                                  1\n",
       "Pascal|C                                                                                                            1\n",
       "C|Java|Python 3|C#|C++|Python                                                                                       1\n",
       "C|Java|Python 3|C++                                                                                                 1\n",
       "PHP|Java|Python|Perl|JavaScript(Node.js)|R(RScript)|Objective-C|Haskell|JavaScript(Rhino)|Go|Clojure|Ruby|C#        1\n",
       "PHP|Java|Perl                                                                                                       1\n",
       "PHP|Java|JavaScript(Rhino)                                                                                          1\n",
       "PHP|Java|JavaScript                                                                                                 1\n",
       "PHP|JavaScript|C++                                                                                                  1\n",
       "PHP|JavaScript(Rhino)|C++                                                                                           1\n",
       "PHP|C++|Perl                                                                                                        1\n",
       "C|Java|Python|C++|C#|Haskell                                                                                        1\n",
       "PHP|Befunge|C++                                                                                                     1\n",
       "Objective-C|PHP|C++                                                                                                 1\n",
       "Objective-C|PHP                                                                                                     1\n",
       "Objective-C|Java|Befunge                                                                                            1\n",
       "Objective-C|JavaScript|Ruby                                                                                         1\n",
       "Java|Java (openjdk 1.7.0_09)                                                                                        1\n",
       "Java|PHP|JavaScript                                                                                                 1\n",
       "C|Java|Python|C++|JavaScript(Node.js)|PHP                                                                           1\n",
       "C|Java|Python|C++|JavaScript(Node.js)|JavaScript(Rhino)|Ruby                                                        1\n",
       "C|Java|Python|C++|JavaScript(Node.js)|JavaScript(Rhino)                                                             1\n",
       "C|Java|Python|C++|JavaScript(Node.js)|Go|Ruby                                                                       1\n",
       "C|Java|Lisp|C++|JavaScript(Node.js)|Python|JavaScript(Rhino)|Go|PHP|Ruby|Rust|C#                                    1\n",
       "Java|Python 3|C++                                                                                                   1\n",
       "C|Java|Python|C++|JavaScript(Node.js)|C#                                                                            1\n",
       "C|Java|Python|C++|Haskell|PHP                                                                                       1\n",
       "Java|R(RScript)|C++|Perl|Python|Objective-C|Haskell|JavaScript(Rhino)|Go|PHP|Ruby                                   1\n",
       "C|Java|Python|C++|Go|Ruby                                                                                           1\n",
       "                                                                                                                ...  \n",
       "PHP|C++                                                                                                           136\n",
       "Perl                                                                                                              137\n",
       "C#|C|C++                                                                                                          143\n",
       "PHP|Java                                                                                                          146\n",
       "JavaScript                                                                                                        146\n",
       "C|PHP|Java|C++                                                                                                    150\n",
       "C|PHP|C++                                                                                                         159\n",
       "C#|C|Java|C++                                                                                                     170\n",
       "C#|C++                                                                                                            188\n",
       "C|PHP                                                                                                             207\n",
       "C#|C                                                                                                              226\n",
       "C#|Java                                                                                                           267\n",
       "Python|C|Java                                                                                                     340\n",
       "Python|Java|C++                                                                                                   410\n",
       "Ruby                                                                                                              541\n",
       "Python|Java                                                                                                       614\n",
       "Python|C|Java|C++                                                                                                 881\n",
       "Python|C                                                                                                          983\n",
       "PHP                                                                                                              1088\n",
       "Python|C++                                                                                                       1259\n",
       "Python|C|C++                                                                                                     1498\n",
       "C#                                                                                                               1824\n",
       "Java|C++                                                                                                         2081\n",
       "C|Java|C++                                                                                                       2553\n",
       "Python                                                                                                           2789\n",
       "C|Java                                                                                                           3069\n",
       "C|C++                                                                                                            7632\n",
       "C++                                                                                                             13071\n",
       "Java                                                                                                            13946\n",
       "C                                                                                                               16251\n",
       "Name: user_id, dtype: int64"
      ]
     },
     "execution_count": 216,
     "metadata": {},
     "output_type": "execute_result"
    }
   ],
   "source": [
    "df=fullUsers.groupby('skills')['user_id'].count()\n",
    "df.sort_values()"
   ]
  },
  {
   "cell_type": "code",
   "execution_count": 218,
   "metadata": {
    "collapsed": false
   },
   "outputs": [
    {
     "data": {
      "text/plain": [
       "Index(['user_id', 'solved_count', 'attempts', 'user_type', 'recordtype'], dtype='object')"
      ]
     },
     "execution_count": 218,
     "metadata": {},
     "output_type": "execute_result"
    }
   ],
   "source": [
    "fullUsers.columns"
   ]
  },
  {
   "cell_type": "code",
   "execution_count": 217,
   "metadata": {
    "collapsed": true
   },
   "outputs": [],
   "source": [
    "#dropping skills as it can be observed majority of the values are same with same languages listed. We wouldn't be able to \n",
    "#infer much from this column\n",
    "fullUsers=fullUsers.drop(['skills'],axis=1)"
   ]
  },
  {
   "cell_type": "code",
   "execution_count": 219,
   "metadata": {
    "collapsed": false
   },
   "outputs": [],
   "source": [
    "testUsersCleaned=fullUsers.loc[fullUsers['recordtype']=='test','user_id':'user_type']\n",
    "trainUsersCleaned=fullUsers.loc[fullUsers['recordtype']=='train','user_id':'user_type']"
   ]
  },
  {
   "cell_type": "code",
   "execution_count": 220,
   "metadata": {
    "collapsed": false
   },
   "outputs": [
    {
     "name": "stdout",
     "output_type": "stream",
     "text": [
      "<class 'pandas.core.frame.DataFrame'>\n",
      "Int64Index: 62530 entries, 0 to 62529\n",
      "Data columns (total 4 columns):\n",
      "user_id         62530 non-null int64\n",
      "solved_count    62530 non-null int64\n",
      "attempts        62530 non-null int64\n",
      "user_type       62530 non-null object\n",
      "dtypes: int64(3), object(1)\n",
      "memory usage: 2.4+ MB\n"
     ]
    }
   ],
   "source": [
    "trainUsersCleaned.info()"
   ]
  },
  {
   "cell_type": "code",
   "execution_count": 186,
   "metadata": {
    "collapsed": false
   },
   "outputs": [],
   "source": [
    "trainSubmissions['solved']=0"
   ]
  },
  {
   "cell_type": "code",
   "execution_count": 187,
   "metadata": {
    "collapsed": false
   },
   "outputs": [],
   "source": [
    "#setting solved column to 1 if both the conditions are satisfied. According the business rule\n",
    "mask=(trainSubmissions['solved_status']=='SO') & (trainSubmissions['result']=='AC')"
   ]
  },
  {
   "cell_type": "code",
   "execution_count": 188,
   "metadata": {
    "collapsed": false
   },
   "outputs": [],
   "source": [
    "trainSubmissions.loc[mask,'solved']=1"
   ]
  },
  {
   "cell_type": "code",
   "execution_count": 189,
   "metadata": {
    "collapsed": false
   },
   "outputs": [],
   "source": [
    "#dropping all the other columns, these columns are not available in test data so won't use them for training our model as well\n",
    "trainSubmissions=trainSubmissions.drop(['solved_status','result','language_used','execution_time'],axis=1)"
   ]
  },
  {
   "cell_type": "code",
   "execution_count": 190,
   "metadata": {
    "collapsed": false
   },
   "outputs": [
    {
     "data": {
      "text/html": [
       "<div>\n",
       "<table border=\"1\" class=\"dataframe\">\n",
       "  <thead>\n",
       "    <tr style=\"text-align: right;\">\n",
       "      <th></th>\n",
       "      <th>user_id</th>\n",
       "      <th>problem_id</th>\n",
       "      <th>solved</th>\n",
       "    </tr>\n",
       "  </thead>\n",
       "  <tbody>\n",
       "    <tr>\n",
       "      <th>0</th>\n",
       "      <td>1056149</td>\n",
       "      <td>918786</td>\n",
       "      <td>0</td>\n",
       "    </tr>\n",
       "    <tr>\n",
       "      <th>1</th>\n",
       "      <td>1056149</td>\n",
       "      <td>918786</td>\n",
       "      <td>1</td>\n",
       "    </tr>\n",
       "    <tr>\n",
       "      <th>2</th>\n",
       "      <td>1347625</td>\n",
       "      <td>909223</td>\n",
       "      <td>1</td>\n",
       "    </tr>\n",
       "    <tr>\n",
       "      <th>3</th>\n",
       "      <td>967099</td>\n",
       "      <td>936829</td>\n",
       "      <td>1</td>\n",
       "    </tr>\n",
       "    <tr>\n",
       "      <th>4</th>\n",
       "      <td>924192</td>\n",
       "      <td>916333</td>\n",
       "      <td>0</td>\n",
       "    </tr>\n",
       "  </tbody>\n",
       "</table>\n",
       "</div>"
      ],
      "text/plain": [
       "   user_id  problem_id  solved\n",
       "0  1056149      918786       0\n",
       "1  1056149      918786       1\n",
       "2  1347625      909223       1\n",
       "3   967099      936829       1\n",
       "4   924192      916333       0"
      ]
     },
     "execution_count": 190,
     "metadata": {},
     "output_type": "execute_result"
    }
   ],
   "source": [
    "trainSubmissions.head()"
   ]
  },
  {
   "cell_type": "code",
   "execution_count": 221,
   "metadata": {
    "collapsed": false
   },
   "outputs": [
    {
     "data": {
      "text/plain": [
       "(1048575, 12)"
      ]
     },
     "execution_count": 221,
     "metadata": {},
     "output_type": "execute_result"
    }
   ],
   "source": [
    "#join data to get a combined data set for training data\n",
    "trainMerged=pd.merge(trainSubmissions,trainProblems, left_on='problem_id', right_on='problem_id', how='inner')\n",
    "trainMerged=pd.merge(trainMerged, trainUsersCleaned, left_on='user_id', right_on='user_id', how='inner')\n",
    "trainMerged.shape"
   ]
  },
  {
   "cell_type": "code",
   "execution_count": 222,
   "metadata": {
    "collapsed": false
   },
   "outputs": [
    {
     "data": {
      "text/plain": [
       "(35618, 12)"
      ]
     },
     "execution_count": 222,
     "metadata": {},
     "output_type": "execute_result"
    }
   ],
   "source": [
    "testMerged=pd.merge(testSubmissions,testProblems, left_on='problem_id', right_on='problem_id', how='inner')\n",
    "testMerged=pd.merge(testMerged, testUsersCleaned, left_on='user_id', right_on='user_id', how='inner')\n",
    "testMerged.shape"
   ]
  },
  {
   "cell_type": "code",
   "execution_count": 230,
   "metadata": {
    "collapsed": false
   },
   "outputs": [],
   "source": [
    "trainMerged=trainMerged.drop(['solved_count_y'],axis=1)\n",
    "testMerged=testMerged.drop(['solved_count_y'],axis=1)"
   ]
  },
  {
   "cell_type": "code",
   "execution_count": 231,
   "metadata": {
    "collapsed": false
   },
   "outputs": [
    {
     "data": {
      "text/html": [
       "<div>\n",
       "<table border=\"1\" class=\"dataframe\">\n",
       "  <thead>\n",
       "    <tr style=\"text-align: right;\">\n",
       "      <th></th>\n",
       "      <th>user_id</th>\n",
       "      <th>problem_id</th>\n",
       "      <th>solved</th>\n",
       "      <th>level</th>\n",
       "      <th>accuracy</th>\n",
       "      <th>solved_count_x</th>\n",
       "      <th>error_count</th>\n",
       "      <th>rating</th>\n",
       "      <th>tag1</th>\n",
       "      <th>attempts</th>\n",
       "      <th>user_type</th>\n",
       "    </tr>\n",
       "  </thead>\n",
       "  <tbody>\n",
       "    <tr>\n",
       "      <th>0</th>\n",
       "      <td>1056149</td>\n",
       "      <td>918786</td>\n",
       "      <td>0</td>\n",
       "      <td>0</td>\n",
       "      <td>0.63</td>\n",
       "      <td>755</td>\n",
       "      <td>1071</td>\n",
       "      <td>3.4</td>\n",
       "      <td>0</td>\n",
       "      <td>118</td>\n",
       "      <td>W</td>\n",
       "    </tr>\n",
       "    <tr>\n",
       "      <th>1</th>\n",
       "      <td>1056149</td>\n",
       "      <td>918786</td>\n",
       "      <td>1</td>\n",
       "      <td>0</td>\n",
       "      <td>0.63</td>\n",
       "      <td>755</td>\n",
       "      <td>1071</td>\n",
       "      <td>3.4</td>\n",
       "      <td>0</td>\n",
       "      <td>118</td>\n",
       "      <td>W</td>\n",
       "    </tr>\n",
       "    <tr>\n",
       "      <th>2</th>\n",
       "      <td>1056149</td>\n",
       "      <td>909223</td>\n",
       "      <td>1</td>\n",
       "      <td>0</td>\n",
       "      <td>0.75</td>\n",
       "      <td>1691</td>\n",
       "      <td>1465</td>\n",
       "      <td>2.6</td>\n",
       "      <td>53</td>\n",
       "      <td>118</td>\n",
       "      <td>W</td>\n",
       "    </tr>\n",
       "    <tr>\n",
       "      <th>3</th>\n",
       "      <td>1056149</td>\n",
       "      <td>913738</td>\n",
       "      <td>0</td>\n",
       "      <td>0</td>\n",
       "      <td>0.53</td>\n",
       "      <td>2241</td>\n",
       "      <td>8197</td>\n",
       "      <td>4.0</td>\n",
       "      <td>32</td>\n",
       "      <td>118</td>\n",
       "      <td>W</td>\n",
       "    </tr>\n",
       "    <tr>\n",
       "      <th>4</th>\n",
       "      <td>1056149</td>\n",
       "      <td>913738</td>\n",
       "      <td>1</td>\n",
       "      <td>0</td>\n",
       "      <td>0.53</td>\n",
       "      <td>2241</td>\n",
       "      <td>8197</td>\n",
       "      <td>4.0</td>\n",
       "      <td>32</td>\n",
       "      <td>118</td>\n",
       "      <td>W</td>\n",
       "    </tr>\n",
       "  </tbody>\n",
       "</table>\n",
       "</div>"
      ],
      "text/plain": [
       "   user_id  problem_id  solved  level  accuracy  solved_count_x  error_count  \\\n",
       "0  1056149      918786       0      0      0.63             755         1071   \n",
       "1  1056149      918786       1      0      0.63             755         1071   \n",
       "2  1056149      909223       1      0      0.75            1691         1465   \n",
       "3  1056149      913738       0      0      0.53            2241         8197   \n",
       "4  1056149      913738       1      0      0.53            2241         8197   \n",
       "\n",
       "   rating  tag1  attempts user_type  \n",
       "0     3.4     0       118         W  \n",
       "1     3.4     0       118         W  \n",
       "2     2.6    53       118         W  \n",
       "3     4.0    32       118         W  \n",
       "4     4.0    32       118         W  "
      ]
     },
     "execution_count": 231,
     "metadata": {},
     "output_type": "execute_result"
    }
   ],
   "source": [
    "trainMerged.head()"
   ]
  },
  {
   "cell_type": "code",
   "execution_count": 59,
   "metadata": {
    "collapsed": true
   },
   "outputs": [],
   "source": [
    "target = [x[2] for x in trainMerged]\n",
    "train = [x[1:] for x in trainMerged]"
   ]
  },
  {
   "cell_type": "code",
   "execution_count": 232,
   "metadata": {
    "collapsed": false
   },
   "outputs": [
    {
     "name": "stdout",
     "output_type": "stream",
     "text": [
      "<class 'pandas.core.frame.DataFrame'>\n",
      "Int64Index: 1048575 entries, 0 to 1048574\n",
      "Data columns (total 11 columns):\n",
      "user_id           1048575 non-null int32\n",
      "problem_id        1048575 non-null int32\n",
      "solved            1048575 non-null int32\n",
      "level             1048575 non-null int64\n",
      "accuracy          1048575 non-null float64\n",
      "solved_count_x    1048575 non-null int32\n",
      "error_count       1048575 non-null int32\n",
      "rating            1048575 non-null float32\n",
      "tag1              1048575 non-null int64\n",
      "attempts          1048575 non-null int32\n",
      "user_type         1048575 non-null object\n",
      "dtypes: float32(1), float64(1), int32(6), int64(2), object(1)\n",
      "memory usage: 68.0+ MB\n"
     ]
    }
   ],
   "source": [
    "trainMerged.info()"
   ]
  },
  {
   "cell_type": "markdown",
   "metadata": {},
   "source": [
    "# Converting data frame to numpy array. Encoding catergorical variables"
   ]
  },
  {
   "cell_type": "code",
   "execution_count": 250,
   "metadata": {
    "collapsed": false
   },
   "outputs": [],
   "source": [
    "#converting to 32 bit, this is to avoid memory cache error on 32 bit machines and IDEs\n",
    "trainMerged.user_id=trainMerged.user_id.astype('int32')\n",
    "trainMerged.problem_id=trainMerged.problem_id.astype('int32')\n",
    "trainMerged.solved=trainMerged.solved.astype('int32')\n",
    "trainMerged.solved_count_x=trainMerged.solved_count_x.astype('int32')\n",
    "trainMerged.error_count=trainMerged.error_count.astype('int32')\n",
    "trainMerged.rating=trainMerged.rating.astype('float32')\n",
    "trainMerged.attempts=trainMerged.attempts.astype('int32')\n",
    "trainMerged.accuracy=trainMerged.accuracy.astype('int32')\n",
    "trainMerged.level=trainMerged.level.astype('int32')\n",
    "trainMerged.tag1=trainMerged.tag1.astype('int32')\n",
    "trainMerged.user_type=trainMerged.user_type.astype('int32')"
   ]
  },
  {
   "cell_type": "code",
   "execution_count": 254,
   "metadata": {
    "collapsed": false
   },
   "outputs": [],
   "source": [
    "y, _ = pd.factorize(trainMerged.solved.astype('int32'))"
   ]
  },
  {
   "cell_type": "code",
   "execution_count": 227,
   "metadata": {
    "collapsed": false
   },
   "outputs": [],
   "source": [
    "le_level = preprocessing.LabelEncoder()\n",
    "#to convert into numbers\n",
    "trainMerged.level = le_level.fit_transform(trainMerged.level)\n"
   ]
  },
  {
   "cell_type": "code",
   "execution_count": 241,
   "metadata": {
    "collapsed": true
   },
   "outputs": [],
   "source": [
    "le_type = preprocessing.LabelEncoder()\n",
    "#to convert into numbers\n",
    "trainMerged.user_type = le_type.fit_transform(trainMerged.user_type)"
   ]
  },
  {
   "cell_type": "code",
   "execution_count": 228,
   "metadata": {
    "collapsed": true
   },
   "outputs": [],
   "source": [
    "le_tag = preprocessing.LabelEncoder()\n",
    "#to convert into numbers\n",
    "trainMerged.tag1 = le_type.fit_transform(trainMerged.tag1)"
   ]
  },
  {
   "cell_type": "code",
   "execution_count": 70,
   "metadata": {
    "collapsed": true
   },
   "outputs": [],
   "source": [
    "# standardizing data to minimize effects of high absolute values\n",
    "from sklearn.preprocessing import StandardScaler\n",
    "scaler = StandardScaler()\n",
    "X = scaler.fit_transform(trainMerged)"
   ]
  },
  {
   "cell_type": "code",
   "execution_count": 235,
   "metadata": {
    "collapsed": false
   },
   "outputs": [
    {
     "data": {
      "text/plain": [
       "Index(['user_id', 'problem_id', 'solved', 'level', 'accuracy',\n",
       "       'solved_count_x', 'error_count', 'rating', 'tag1', 'attempts',\n",
       "       'user_type'],\n",
       "      dtype='object')"
      ]
     },
     "execution_count": 235,
     "metadata": {},
     "output_type": "execute_result"
    }
   ],
   "source": [
    "trainMerged.columns"
   ]
  },
  {
   "cell_type": "code",
   "execution_count": 242,
   "metadata": {
    "collapsed": false
   },
   "outputs": [
    {
     "data": {
      "text/html": [
       "<div>\n",
       "<table border=\"1\" class=\"dataframe\">\n",
       "  <thead>\n",
       "    <tr style=\"text-align: right;\">\n",
       "      <th></th>\n",
       "      <th>solved</th>\n",
       "      <th>level</th>\n",
       "      <th>accuracy</th>\n",
       "      <th>solved_count_x</th>\n",
       "      <th>error_count</th>\n",
       "      <th>rating</th>\n",
       "      <th>tag1</th>\n",
       "      <th>attempts</th>\n",
       "      <th>user_type</th>\n",
       "    </tr>\n",
       "  </thead>\n",
       "  <tbody>\n",
       "    <tr>\n",
       "      <th>solved</th>\n",
       "      <td>1.000000</td>\n",
       "      <td>-0.115286</td>\n",
       "      <td>0.124193</td>\n",
       "      <td>0.232642</td>\n",
       "      <td>0.013314</td>\n",
       "      <td>0.042784</td>\n",
       "      <td>-0.032257</td>\n",
       "      <td>0.002808</td>\n",
       "      <td>-0.011253</td>\n",
       "    </tr>\n",
       "    <tr>\n",
       "      <th>level</th>\n",
       "      <td>-0.115286</td>\n",
       "      <td>1.000000</td>\n",
       "      <td>-0.075417</td>\n",
       "      <td>-0.323856</td>\n",
       "      <td>-0.215977</td>\n",
       "      <td>-0.204996</td>\n",
       "      <td>0.290921</td>\n",
       "      <td>0.063417</td>\n",
       "      <td>-0.068325</td>\n",
       "    </tr>\n",
       "    <tr>\n",
       "      <th>accuracy</th>\n",
       "      <td>0.124193</td>\n",
       "      <td>-0.075417</td>\n",
       "      <td>1.000000</td>\n",
       "      <td>0.078877</td>\n",
       "      <td>-0.366547</td>\n",
       "      <td>0.109150</td>\n",
       "      <td>0.101125</td>\n",
       "      <td>0.012766</td>\n",
       "      <td>0.058947</td>\n",
       "    </tr>\n",
       "    <tr>\n",
       "      <th>solved_count_x</th>\n",
       "      <td>0.232642</td>\n",
       "      <td>-0.323856</td>\n",
       "      <td>0.078877</td>\n",
       "      <td>1.000000</td>\n",
       "      <td>0.590464</td>\n",
       "      <td>0.149460</td>\n",
       "      <td>-0.238209</td>\n",
       "      <td>-0.079992</td>\n",
       "      <td>0.084777</td>\n",
       "    </tr>\n",
       "    <tr>\n",
       "      <th>error_count</th>\n",
       "      <td>0.013314</td>\n",
       "      <td>-0.215977</td>\n",
       "      <td>-0.366547</td>\n",
       "      <td>0.590464</td>\n",
       "      <td>1.000000</td>\n",
       "      <td>0.166097</td>\n",
       "      <td>-0.247942</td>\n",
       "      <td>-0.085573</td>\n",
       "      <td>0.069832</td>\n",
       "    </tr>\n",
       "    <tr>\n",
       "      <th>rating</th>\n",
       "      <td>0.042784</td>\n",
       "      <td>-0.204996</td>\n",
       "      <td>0.109150</td>\n",
       "      <td>0.149460</td>\n",
       "      <td>0.166097</td>\n",
       "      <td>1.000000</td>\n",
       "      <td>-0.041189</td>\n",
       "      <td>-0.068466</td>\n",
       "      <td>0.113053</td>\n",
       "    </tr>\n",
       "    <tr>\n",
       "      <th>tag1</th>\n",
       "      <td>-0.032257</td>\n",
       "      <td>0.290921</td>\n",
       "      <td>0.101125</td>\n",
       "      <td>-0.238209</td>\n",
       "      <td>-0.247942</td>\n",
       "      <td>-0.041189</td>\n",
       "      <td>1.000000</td>\n",
       "      <td>0.040362</td>\n",
       "      <td>0.000537</td>\n",
       "    </tr>\n",
       "    <tr>\n",
       "      <th>attempts</th>\n",
       "      <td>0.002808</td>\n",
       "      <td>0.063417</td>\n",
       "      <td>0.012766</td>\n",
       "      <td>-0.079992</td>\n",
       "      <td>-0.085573</td>\n",
       "      <td>-0.068466</td>\n",
       "      <td>0.040362</td>\n",
       "      <td>1.000000</td>\n",
       "      <td>-0.089842</td>\n",
       "    </tr>\n",
       "    <tr>\n",
       "      <th>user_type</th>\n",
       "      <td>-0.011253</td>\n",
       "      <td>-0.068325</td>\n",
       "      <td>0.058947</td>\n",
       "      <td>0.084777</td>\n",
       "      <td>0.069832</td>\n",
       "      <td>0.113053</td>\n",
       "      <td>0.000537</td>\n",
       "      <td>-0.089842</td>\n",
       "      <td>1.000000</td>\n",
       "    </tr>\n",
       "  </tbody>\n",
       "</table>\n",
       "</div>"
      ],
      "text/plain": [
       "                  solved     level  accuracy  solved_count_x  error_count  \\\n",
       "solved          1.000000 -0.115286  0.124193        0.232642     0.013314   \n",
       "level          -0.115286  1.000000 -0.075417       -0.323856    -0.215977   \n",
       "accuracy        0.124193 -0.075417  1.000000        0.078877    -0.366547   \n",
       "solved_count_x  0.232642 -0.323856  0.078877        1.000000     0.590464   \n",
       "error_count     0.013314 -0.215977 -0.366547        0.590464     1.000000   \n",
       "rating          0.042784 -0.204996  0.109150        0.149460     0.166097   \n",
       "tag1           -0.032257  0.290921  0.101125       -0.238209    -0.247942   \n",
       "attempts        0.002808  0.063417  0.012766       -0.079992    -0.085573   \n",
       "user_type      -0.011253 -0.068325  0.058947        0.084777     0.069832   \n",
       "\n",
       "                  rating      tag1  attempts  user_type  \n",
       "solved          0.042784 -0.032257  0.002808  -0.011253  \n",
       "level          -0.204996  0.290921  0.063417  -0.068325  \n",
       "accuracy        0.109150  0.101125  0.012766   0.058947  \n",
       "solved_count_x  0.149460 -0.238209 -0.079992   0.084777  \n",
       "error_count     0.166097 -0.247942 -0.085573   0.069832  \n",
       "rating          1.000000 -0.041189 -0.068466   0.113053  \n",
       "tag1           -0.041189  1.000000  0.040362   0.000537  \n",
       "attempts       -0.068466  0.040362  1.000000  -0.089842  \n",
       "user_type       0.113053  0.000537 -0.089842   1.000000  "
      ]
     },
     "execution_count": 242,
     "metadata": {},
     "output_type": "execute_result"
    }
   ],
   "source": [
    "trainMerged.loc[:,'solved':'user_type'].corr()"
   ]
  },
  {
   "cell_type": "markdown",
   "metadata": {},
   "source": [
    "# There is no evident Multi-collinearity between the features, removing the identity columns and adding other variables as features"
   ]
  },
  {
   "cell_type": "code",
   "execution_count": 258,
   "metadata": {
    "collapsed": true
   },
   "outputs": [],
   "source": [
    "features = [ u'level', u'solved_count_x',\n",
    "       u'error_count',u'attempts',\n",
    "       u'user_type',u'accuracy',u'tag1']"
   ]
  },
  {
   "cell_type": "code",
   "execution_count": 71,
   "metadata": {
    "collapsed": true
   },
   "outputs": [],
   "source": [
    "# Cross validation function - reference y hat blog http://blog.yhat.com/posts/predicting-customer-churn-with-sklearn.html \n",
    "\n",
    "from sklearn.cross_validation import KFold\n",
    "\n",
    "def run_cv(X,y,clf_class,**kwargs):\n",
    "    # Construct a kfolds object\n",
    "    kf = KFold(len(y),n_folds=5,shuffle=True)\n",
    "    y_pred = y.copy()\n",
    "    \n",
    "    # Iterate through folds\n",
    "    for train_index, test_index in kf:\n",
    "        X_train, X_test = X[train_index], X[test_index]\n",
    "        y_train = y[train_index]\n",
    "        # Initialize a classifier with key word arguments\n",
    "        clf = clf_class(**kwargs)\n",
    "        clf.fit(X_train,y_train)\n",
    "        y_pred[test_index] = clf.predict(X_test)\n",
    "    return y_pred\n",
    "\n"
   ]
  },
  {
   "cell_type": "code",
   "execution_count": 255,
   "metadata": {
    "collapsed": false
   },
   "outputs": [
    {
     "data": {
      "text/plain": [
       "824997"
      ]
     },
     "execution_count": 255,
     "metadata": {},
     "output_type": "execute_result"
    }
   ],
   "source": [
    "sum(y==0)"
   ]
  },
  {
   "cell_type": "code",
   "execution_count": 251,
   "metadata": {
    "collapsed": false
   },
   "outputs": [
    {
     "name": "stdout",
     "output_type": "stream",
     "text": [
      "<class 'pandas.core.frame.DataFrame'>\n",
      "Int64Index: 1048575 entries, 0 to 1048574\n",
      "Data columns (total 11 columns):\n",
      "user_id           1048575 non-null int32\n",
      "problem_id        1048575 non-null int32\n",
      "solved            1048575 non-null int32\n",
      "level             1048575 non-null int32\n",
      "accuracy          1048575 non-null int32\n",
      "solved_count_x    1048575 non-null int32\n",
      "error_count       1048575 non-null int32\n",
      "rating            1048575 non-null float32\n",
      "tag1              1048575 non-null int32\n",
      "attempts          1048575 non-null int32\n",
      "user_type         1048575 non-null int32\n",
      "dtypes: float32(1), int32(10)\n",
      "memory usage: 52.0 MB\n"
     ]
    }
   ],
   "source": [
    "trainMerged.info()"
   ]
  },
  {
   "cell_type": "code",
   "execution_count": 271,
   "metadata": {
    "collapsed": false
   },
   "outputs": [
    {
     "data": {
      "text/plain": [
       "solved\n",
       "0    824997\n",
       "1    223578\n",
       "Name: problem_id, dtype: int64"
      ]
     },
     "execution_count": 271,
     "metadata": {},
     "output_type": "execute_result"
    }
   ],
   "source": [
    "trainMerged.groupby('solved')['problem_id'].count()"
   ]
  },
  {
   "cell_type": "raw",
   "metadata": {},
   "source": []
  },
  {
   "cell_type": "markdown",
   "metadata": {},
   "source": [
    "# Train models and evaluate metrics"
   ]
  },
  {
   "cell_type": "markdown",
   "metadata": {},
   "source": [
    "# with feature set 1"
   ]
  },
  {
   "cell_type": "code",
   "execution_count": 260,
   "metadata": {
    "collapsed": false
   },
   "outputs": [],
   "source": [
    " features = [ u'level', u'solved_count_x',\n",
    "       u'error_count',u'attempts',\n",
    "       u'user_type',u'accuracy',u'tag1']\n",
    "np=trainMerged.as_matrix(columns=features)\n",
    "randomforestArray=confusion_matrix(y,run_cv(np,y,RandomForestClassifier))"
   ]
  },
  {
   "cell_type": "code",
   "execution_count": 261,
   "metadata": {
    "collapsed": false
   },
   "outputs": [
    {
     "name": "stdout",
     "output_type": "stream",
     "text": [
      "==== random forest======\n",
      "accuracy 0.798\n",
      "precision 0.546\n",
      "recall 0.311\n"
     ]
    }
   ],
   "source": [
    "\n",
    "print (\"==== random forest======\")\n",
    "print (\"accuracy %.3f\" %((randomforestArray[0][0]+randomforestArray[1][1])/sum(randomforestArray[0]+randomforestArray[1])))\n",
    "print (\"precision %.3f\" %((randomforestArray[1][1])/(randomforestArray[1][1]+randomforestArray[0][1])))\n",
    "print (\"recall %.3f\" %((randomforestArray[1][1])/(randomforestArray[1][1]+randomforestArray[1][0])))"
   ]
  },
  {
   "cell_type": "code",
   "execution_count": 262,
   "metadata": {
    "collapsed": true
   },
   "outputs": [],
   "source": [
    "\n",
    "np2=trainMerged.as_matrix(columns=features)\n",
    "knnArray=confusion_matrix(y,run_cv(np2,y,Knearestneighbors))"
   ]
  },
  {
   "cell_type": "code",
   "execution_count": 263,
   "metadata": {
    "collapsed": false
   },
   "outputs": [
    {
     "name": "stdout",
     "output_type": "stream",
     "text": [
      "==== K nearest neighbors======\n",
      "accuracy 0.790\n",
      "precision 0.513\n",
      "recall 0.317\n"
     ]
    }
   ],
   "source": [
    "print (\"==== K nearest neighbors======\")\n",
    "print (\"accuracy %.3f\" %((knnArray[0][0]+knnArray[1][1])/sum(knnArray[0]+knnArray[1])))\n",
    "print (\"precision %.3f\" %((knnArray[1][1])/(knnArray[1][1]+knnArray[0][1])))\n",
    "print (\"recall %.3f\" %((knnArray[1][1])/(knnArray[1][1]+knnArray[1][0])))"
   ]
  },
  {
   "cell_type": "markdown",
   "metadata": {},
   "source": [
    "# With feature set 2 , removed features with least correlation except attempts as it exhibits non-linear realation as shown in scatter plot"
   ]
  },
  {
   "cell_type": "code",
   "execution_count": 266,
   "metadata": {
    "collapsed": false
   },
   "outputs": [],
   "source": [
    " features = [ u'level', u'solved_count_x',\n",
    "       u'attempts',\n",
    "      u'accuracy',u'tag1']\n",
    "np=trainMerged.as_matrix(columns=features)\n",
    "randomforestArray=confusion_matrix(y,run_cv(np,y,RandomForestClassifier))"
   ]
  },
  {
   "cell_type": "code",
   "execution_count": 267,
   "metadata": {
    "collapsed": false
   },
   "outputs": [
    {
     "name": "stdout",
     "output_type": "stream",
     "text": [
      "==== random forest======\n",
      "accuracy 0.798\n",
      "precision 0.549\n",
      "recall 0.296\n"
     ]
    }
   ],
   "source": [
    "print (\"==== random forest======\")\n",
    "print (\"accuracy %.3f\" %((randomforestArray[0][0]+randomforestArray[1][1])/sum(randomforestArray[0]+randomforestArray[1])))\n",
    "print (\"precision %.3f\" %((randomforestArray[1][1])/(randomforestArray[1][1]+randomforestArray[0][1])))\n",
    "print (\"recall %.3f\" %((randomforestArray[1][1])/(randomforestArray[1][1]+randomforestArray[1][0])))"
   ]
  },
  {
   "cell_type": "code",
   "execution_count": 268,
   "metadata": {
    "collapsed": true
   },
   "outputs": [],
   "source": [
    "np2=trainMerged.as_matrix(columns=features)\n",
    "knnArray=confusion_matrix(y,run_cv(np2,y,Knearestneighbors))"
   ]
  },
  {
   "cell_type": "code",
   "execution_count": 269,
   "metadata": {
    "collapsed": false
   },
   "outputs": [
    {
     "name": "stdout",
     "output_type": "stream",
     "text": [
      "==== K nearest neighbors======\n",
      "accuracy 0.787\n",
      "precision 0.501\n",
      "recall 0.310\n"
     ]
    }
   ],
   "source": [
    "print (\"==== K nearest neighbors======\")\n",
    "print (\"accuracy %.3f\" %((knnArray[0][0]+knnArray[1][1])/sum(knnArray[0]+knnArray[1])))\n",
    "print (\"precision %.3f\" %((knnArray[1][1])/(knnArray[1][1]+knnArray[0][1])))\n",
    "print (\"recall %.3f\" %((knnArray[1][1])/(knnArray[1][1]+knnArray[1][0])))"
   ]
  },
  {
   "cell_type": "markdown",
   "metadata": {},
   "source": [
    "# From the above analysis it can be observed that random forest with feature set 1 is a winner. Though all the options are close this option has a slight advantage in terms of accuracy. \n",
    "#  ratio of positive: negative being 1:4 in the training data could have caused low precision and recall values. Further feature engineering  and exploring other techniques could improve the performance"
   ]
  },
  {
   "cell_type": "markdown",
   "metadata": {},
   "source": [
    "#  Below code can be executed on the test data for prediction. As there are no actual values we cannot compare and evaluate model performance here. Code for converting data frame to numpy matrix is exactly the same as training set."
   ]
  },
  {
   "cell_type": "code",
   "execution_count": 275,
   "metadata": {
    "collapsed": false
   },
   "outputs": [],
   "source": [
    "#converting to 32 bit, this is to avoid memory cache error on 32 bit machines and IDEs\n",
    "le_level = preprocessing.LabelEncoder()\n",
    "#to convert into numbers\n",
    "testMerged.level = le_level.fit_transform(testMerged.level)\n",
    "le_type = preprocessing.LabelEncoder()\n",
    "#to convert into numbers\n",
    "testMerged.user_type = le_type.fit_transform(testMerged.user_type)\n",
    "le_tag = preprocessing.LabelEncoder()\n",
    "#to convert into numbers\n",
    "testMerged.tag1 = le_type.fit_transform(testMerged.tag1)\n",
    "\n",
    "testMerged.user_id=testMerged.user_id.astype('int32')\n",
    "testMerged.problem_id=testMerged.problem_id.astype('int32')\n",
    "testMerged.solved_count_x=testMerged.solved_count_x.astype('int32')\n",
    "testMerged.error_count=testMerged.error_count.astype('int32')\n",
    "testMerged.rating=testMerged.rating.astype('float32')\n",
    "testMerged.attempts=testMerged.attempts.astype('int32')\n",
    "testMerged.accuracy=testMerged.accuracy.astype('int32')\n",
    "testMerged.level=testMerged.level.astype('int32')\n",
    "testMerged.tag1=testMerged.tag1.astype('int32')\n",
    "testMerged.user_type=testMerged.user_type.astype('int32')\n",
    "\n",
    "\n",
    "# standardizing data to minimize effects of high absolute values\n",
    "from sklearn.preprocessing import StandardScaler\n",
    "scaler = StandardScaler()\n",
    "X = scaler.fit_transform(testMerged)\n",
    "features = [ u'level', u'solved_count_x',\n",
    "       u'error_count',u'attempts',\n",
    "       u'user_type',u'accuracy',u'tag1']\n",
    "npTest=testMerged.as_matrix(columns=features)"
   ]
  },
  {
   "cell_type": "code",
   "execution_count": 276,
   "metadata": {
    "collapsed": false
   },
   "outputs": [
    {
     "data": {
      "text/plain": [
       "RandomForestClassifier(bootstrap=True, class_weight=None, criterion='gini',\n",
       "            max_depth=None, max_features='auto', max_leaf_nodes=None,\n",
       "            min_samples_leaf=1, min_samples_split=2,\n",
       "            min_weight_fraction_leaf=0.0, n_estimators=30, n_jobs=1,\n",
       "            oob_score=False, random_state=None, verbose=0,\n",
       "            warm_start=False)"
      ]
     },
     "execution_count": 276,
     "metadata": {},
     "output_type": "execute_result"
    }
   ],
   "source": [
    "rf = RandomForestClassifier(n_estimators=30)\n",
    "rf.fit(trainMerged[features], y)\n"
   ]
  },
  {
   "cell_type": "code",
   "execution_count": 277,
   "metadata": {
    "collapsed": true
   },
   "outputs": [],
   "source": [
    "ypred=rf.predict(npTest)"
   ]
  },
  {
   "cell_type": "code",
   "execution_count": 285,
   "metadata": {
    "collapsed": false
   },
   "outputs": [],
   "source": [
    "import numpy as npy\n",
    "npy.savetxt(\"C:/results.csv\", ypred, delimiter=\",\")"
   ]
  }
 ],
 "metadata": {
  "kernelspec": {
   "display_name": "Python 3",
   "language": "python",
   "name": "python3"
  },
  "language_info": {
   "codemirror_mode": {
    "name": "ipython",
    "version": 3
   },
   "file_extension": ".py",
   "mimetype": "text/x-python",
   "name": "python",
   "nbconvert_exporter": "python",
   "pygments_lexer": "ipython3",
   "version": "3.5.1"
  }
 },
 "nbformat": 4,
 "nbformat_minor": 0
}
